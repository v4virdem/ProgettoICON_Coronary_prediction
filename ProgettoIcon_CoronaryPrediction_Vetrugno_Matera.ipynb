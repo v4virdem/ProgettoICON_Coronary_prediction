{
 "cells": [
  {
   "cell_type": "code",
   "execution_count": 5,
   "metadata": {},
   "outputs": [],
   "source": [
    "#import librerie utili\n",
    "\n",
    "import pandas as pd\n",
    "import numpy as np\n",
    "\n",
    "#import modelli di classificazione\n",
    "from pgmpy.estimators import BicScore, HillClimbSearch, MaximumLikelihoodEstimator\n",
    "from pgmpy.models import BayesianModel\n",
    "\n",
    "#import Gaussian Naive Bayes model\n",
    "from sklearn.naive_bayes import GaussianNB\n",
    "from sklearn.ensemble import RandomForestClassifier\n",
    "#import di metrics per calcolare l'accuratezza del modello\n",
    "from sklearn import metrics\n",
    "from sklearn.model_selection import KFold\n",
    "\n",
    "#Librerie per fare inferenza\n",
    "from pgmpy.inference import VariableElimination"
   ]
  },
  {
   "cell_type": "code",
   "execution_count": 6,
   "metadata": {},
   "outputs": [
    {
     "data": {
      "text/plain": [
       "male                 0\n",
       "age                  0\n",
       "education          105\n",
       "currentSmoker        0\n",
       "cigsPerDay          29\n",
       "BPMeds              53\n",
       "prevalentStroke      0\n",
       "prevalentHyp         0\n",
       "diabetes             0\n",
       "totChol             50\n",
       "sysBP                0\n",
       "diaBP                0\n",
       "BMI                 19\n",
       "heartRate            1\n",
       "glucose            388\n",
       "TenYearCHD           0\n",
       "dtype: int64"
      ]
     },
     "execution_count": 6,
     "metadata": {},
     "output_type": "execute_result"
    }
   ],
   "source": [
    "#preprocessing dei dati\n",
    "\n",
    "#import del dataset\n",
    "dataCoronary = pd.read_csv('coronary_prediction.csv')\n",
    "\n",
    "#controllo dei valori nulli\n",
    "dataCoronary.isnull().sum()"
   ]
  },
  {
   "cell_type": "code",
   "execution_count": 7,
   "metadata": {},
   "outputs": [],
   "source": [
    "#riempimento dei valori nulli di Education level con la moda\n",
    "moda = dataCoronary['education'].mode()\n",
    "dataCoronary['education'].fillna(1,inplace=True)"
   ]
  },
  {
   "cell_type": "code",
   "execution_count": 8,
   "metadata": {},
   "outputs": [
    {
     "name": "stderr",
     "output_type": "stream",
     "text": [
      "C:\\Users\\vetru\\anaconda3\\lib\\site-packages\\pandas\\core\\indexing.py:670: SettingWithCopyWarning: \n",
      "A value is trying to be set on a copy of a slice from a DataFrame\n",
      "\n",
      "See the caveats in the documentation: https://pandas.pydata.org/pandas-docs/stable/user_guide/indexing.html#returning-a-view-versus-a-copy\n",
      "  iloc._setitem_with_indexer(indexer, value)\n"
     ]
    }
   ],
   "source": [
    "#riempimento dei valori nulli di cigsPerDay con moda se fumatore, 0 altrimenti\n",
    "\n",
    "#visualizza la media delle sigarette al giorno per fumatori\n",
    "dataC_smoker = dataCoronary.groupby(['currentSmoker'])\n",
    "dataC_smoker['cigsPerDay'].describe()\n",
    "#assegnazione della media ai fumatori, 0 per chi non fuma\n",
    "dataCoronary['cigsPerDay'].fillna(9999,inplace=True)\n",
    "index = []\n",
    "for i,v in enumerate(dataCoronary['cigsPerDay']):\n",
    "    if dataCoronary['cigsPerDay'].loc[i] == 9999:\n",
    "        if dataCoronary['currentSmoker'].loc[i] == 1:\n",
    "            dataCoronary['cigsPerDay'].loc[i] = 18\n",
    "            index.append(i)\n",
    "        else:\n",
    "            dataCoronary['cigsPerDay'].loc[i] = 0\n",
    "            index.append(i)"
   ]
  },
  {
   "cell_type": "code",
   "execution_count": 9,
   "metadata": {},
   "outputs": [],
   "source": [
    "#riempimento dei valori nulli di coloro che hanno una predisposizione all'hypertension\n",
    "\n",
    "#controllo sui quale tipo di paziente utilizza medicine per la pressione\n",
    "dataC_BPMed = dataCoronary.groupby(['prevalentStroke','prevalentHyp'])\n",
    "dataC_BPMed['BPMeds'].sum()\n",
    "\n",
    "#BPmeds è più probabile che un paziente con ipertensione utilizzi medicine per la pressione\n",
    "dataCoronary['BPMeds'].fillna(9999,inplace=True)\n",
    "index = []\n",
    "for i,v in enumerate(dataCoronary['BPMeds']):\n",
    "    if v == 9999:\n",
    "        if dataCoronary['prevalentHyp'].loc[i] == 1:\n",
    "            dataCoronary['BPMeds'].loc[i] = 1\n",
    "            index.append(i)\n",
    "        else:\n",
    "            dataCoronary['BPMeds'].loc[i] = 0\n",
    "            index.append(i)"
   ]
  },
  {
   "cell_type": "code",
   "execution_count": 10,
   "metadata": {},
   "outputs": [
    {
     "name": "stdout",
     "output_type": "stream",
     "text": [
      "male               0\n",
      "age                0\n",
      "education          0\n",
      "currentSmoker      0\n",
      "cigsPerDay         0\n",
      "BPMeds             0\n",
      "prevalentStroke    0\n",
      "prevalentHyp       0\n",
      "diabetes           0\n",
      "totChol            0\n",
      "sysBP              0\n",
      "diaBP              0\n",
      "BMI                0\n",
      "heartRate          0\n",
      "glucose            0\n",
      "TenYearCHD         0\n",
      "dtype: int64\n"
     ]
    }
   ],
   "source": [
    "\n",
    "#prendiamo da describe la media di totChol\n",
    "dataCoronary.totChol.describe()\n",
    "#assegnamo la media ai valori nulli\n",
    "dataCoronary.totChol.fillna(236,inplace=True)\n",
    "\n",
    "#BMI i valori nulli prendono il valore medio\n",
    "dataCoronary.BMI.describe()\n",
    "dataCoronary.BMI.fillna(25.8,inplace=True)\n",
    "\n",
    "#heartrate valori nulli prendono il valore medio\n",
    "dataCoronary.heartRate.describe()\n",
    "dataCoronary.heartRate.fillna(75,inplace=True)\n",
    "\n",
    "#glucose da vedere\n",
    "dataCoronary['glucose'].fillna(9999,inplace=True)\n",
    "index = []\n",
    "for i,v in enumerate(dataCoronary['glucose']):\n",
    "    if v == 9999:\n",
    "        if dataCoronary['diabetes'].loc[i] == 1:\n",
    "            dataCoronary['glucose'].loc[i] = 170\n",
    "            index.append(i)\n",
    "        else:\n",
    "            dataCoronary['glucose'].loc[i] = 79\n",
    "            index.append(i)\n",
    "\n",
    "#fine riempimento valori nulli \n",
    "print(dataCoronary.isnull().sum()) \n",
    " \n",
    "#Convertiamo tutti i valori all'interno del dataFrame in interi\n",
    "dataCoronary_int = np.array(dataCoronary, dtype = int)\n",
    "dataCoronary = pd.DataFrame(dataCoronary_int, columns=dataCoronary.columns)"
   ]
  },
  {
   "cell_type": "code",
   "execution_count": 11,
   "metadata": {},
   "outputs": [
    {
     "name": "stdout",
     "output_type": "stream",
     "text": [
      "Media delle metriche del GaussianNB:\n",
      "Media Accuracy: 0.809917\n",
      "Media Precision: 0.308511\n",
      "Media Recall: 0.232000\n",
      "Media f1: 0.264840\n",
      "\n",
      "Media delle metriche del RandomForest\n",
      "Media Accuracy: 0.850059\n",
      "Media Precision: 0.428571\n",
      "Media Recall: 0.048000\n",
      "Media f1: 0.086331\n"
     ]
    }
   ],
   "source": [
    "#K-FOLD dei classificatori Naive Bayes e Random Forest\n",
    "\n",
    "kf = KFold(n_splits=5, shuffle=True, random_state= 100)\n",
    "\n",
    "X_evaluation = dataCoronary.to_numpy()\n",
    "y_evaluation = dataCoronary[\"TenYearCHD\"].to_numpy()\n",
    "\n",
    "gnb_metrics_score = {'accuracy_list': 0.0,\n",
    "                    'precision_list' : 0.0,\n",
    "                    'recall_list' : 0.0,\n",
    "                    'f1_list' : 0.0 ,\n",
    "}\n",
    "\n",
    "rfc_metrics_score = {'accuracy_list': 0.0,\n",
    "                    'precision_list' : 0.0,\n",
    "                    'recall_list' : 0.0,\n",
    "                    'f1_list' : 0.0 ,\n",
    "}\n",
    "\n",
    "gnb_cl = GaussianNB()\n",
    "rfc_cl = RandomForestClassifier()\n",
    "\n",
    "# ciclo della 5-fold cross validation\n",
    "for train_index, test_index in kf.split(X_evaluation, y_evaluation):\n",
    "\n",
    "    ##print(f\"[+]Split {i}\")\n",
    "    ##i += 1\n",
    "    training_set, test_set = X_evaluation[train_index], X_evaluation[test_index]\n",
    "\n",
    "    #Dati di train\n",
    "    data_train = pd.DataFrame(training_set, columns=dataCoronary.columns)\n",
    "    X_train = data_train.drop(\"TenYearCHD\", axis=1)\n",
    "    y_train = data_train.TenYearCHD\n",
    "\n",
    "    #Dati di test\n",
    "    data_test = pd.DataFrame(test_set, columns=dataCoronary.columns)\n",
    "    y_test = data_test.TenYearCHD\n",
    "    X_test = data_test.drop(\"TenYearCHD\", axis=1)\n",
    "\n",
    "    #fit del classificatore Naive Bayes\n",
    "    gnb_cl.fit(X_train, y_train)\n",
    "    y_pred_gnb = gnb_cl.predict(X_test)\n",
    "\n",
    "    #fit del classificatore RandomForest\n",
    "    rfc_cl.fit(X_train, y_train)\n",
    "    y_pred_rfc = rfc_cl.predict(X_test)\n",
    "\n",
    "    #Salvo le metriche del fold attuale nel dizionario per il Naive\n",
    "    gnb_metrics_score['accuracy_list'] = (metrics.accuracy_score(y_test,y_pred_gnb))\n",
    "    gnb_metrics_score['precision_list'] = (metrics.precision_score(y_test,y_pred_gnb))\n",
    "    gnb_metrics_score['recall_list'] = (metrics.recall_score(y_test,y_pred_gnb))\n",
    "    gnb_metrics_score['f1_list'] = (metrics.f1_score(y_test,y_pred_gnb))\n",
    "\n",
    "    #Salvo le metriche del fold attuale nel dizionario per il RandomForest\n",
    "    rfc_metrics_score['accuracy_list'] = (metrics.accuracy_score(y_test,y_pred_rfc))\n",
    "    rfc_metrics_score['precision_list'] = (metrics.precision_score(y_test,y_pred_rfc))\n",
    "    rfc_metrics_score['recall_list'] = (metrics.recall_score(y_test,y_pred_rfc))\n",
    "    rfc_metrics_score['f1_list'] = (metrics.f1_score(y_test,y_pred_rfc))\n",
    "\n",
    "#Media delle metriche Naive\n",
    "print(\"Media delle metriche del GaussianNB:\")\n",
    "print(\"Media Accuracy: %f\" % (np.mean(gnb_metrics_score['accuracy_list'])))\n",
    "print(\"Media Precision: %f\" % (np.mean(gnb_metrics_score['precision_list'])))\n",
    "print(\"Media Recall: %f\" % (np.mean(gnb_metrics_score['recall_list'])))\n",
    "print(\"Media f1: %f\" % (np.mean(gnb_metrics_score['f1_list'])))\n",
    "#Media delle metriche RandomForest\n",
    "print(\"\\nMedia delle metriche del RandomForest\")\n",
    "print(\"Media Accuracy: %f\" % (np.mean(rfc_metrics_score['accuracy_list'])))\n",
    "print(\"Media Precision: %f\" % (np.mean(rfc_metrics_score['precision_list'])))\n",
    "print(\"Media Recall: %f\" % (np.mean(rfc_metrics_score['recall_list'])))\n",
    "print(\"Media f1: %f\" % (np.mean(rfc_metrics_score['f1_list'])))"
   ]
  },
  {
   "cell_type": "code",
   "execution_count": 12,
   "metadata": {},
   "outputs": [
    {
     "name": "stderr",
     "output_type": "stream",
     "text": [
      "  0%|          | 13/1000000 [00:03<71:23:16,  3.89it/s]\n",
      "C:\\Users\\vetru\\anaconda3\\lib\\site-packages\\pgmpy\\models\\BayesianModel.py:8: FutureWarning: BayesianModel has been renamed to BayesianNetwork. Please use BayesianNewtork class, BayesianModel will be removed in future.\n",
      "  warnings.warn(\n"
     ]
    }
   ],
   "source": [
    "#creazione classificatore e rete\n",
    "\n",
    "X_train = dataCoronary.drop(\"TenYearCHD\", axis=1)\n",
    "y_train = dataCoronary.TenYearCHD\n",
    "\n",
    "#Creazione e fitting del Naive Bayes\n",
    "gnb = GaussianNB()\n",
    "gnb.fit(X_train, y_train)\n",
    "\n",
    "#creazione struttura rete\n",
    "bic = BicScore(dataCoronary)\n",
    "hc_bic = HillClimbSearch(dataCoronary)\n",
    "bic_model = hc_bic.estimate(scoring_method=bic)\n",
    "#Creazione della rete bayesiana e fit\n",
    "bNet = BayesianModel(bic_model.edges())\n",
    "bNet.fit(dataCoronary, estimator=MaximumLikelihoodEstimator) "
   ]
  },
  {
   "cell_type": "code",
   "execution_count": 13,
   "metadata": {},
   "outputs": [
    {
     "name": "stdout",
     "output_type": "stream",
     "text": [
      "  NonMalato \t   Malato\n",
      "[[3.64416896e-06 9.99996356e-01]]\n"
     ]
    }
   ],
   "source": [
    "#test funzionamento classificatore con calcolo della probabilità\n",
    "\n",
    "datiUtente = {\n",
    "    \"male\": [1],\n",
    "    \"age\": [45],\n",
    "    \"education\": [4],\n",
    "    \"currentSmoker\": [0],\n",
    "    \"cigsPerDay\": [0],\n",
    "    \"BPMeds\": [0],\n",
    "    \"prevalentStroke\": [0],\n",
    "    \"prevalentHyp\": [0],\n",
    "    \"diabetes\": [1],\n",
    "    \"totCHol\": [23],\n",
    "    \"sysBP\": [106],\n",
    "    \"diaBP\": [70],\n",
    "    \"BMI\": [26.97],\n",
    "    \"heartRate\": [80],\n",
    "    \"glucose\": [77],\n",
    "}\n",
    "dati_utente = pd.DataFrame(datiUtente)\n",
    "\n",
    "#calcolo probabilità tra malato o non in 10 anni\n",
    "print(\"  NonMalato \\t   Malato\")\n",
    "print(gnb.predict_proba(dati_utente))"
   ]
  },
  {
   "cell_type": "code",
   "execution_count": 14,
   "metadata": {},
   "outputs": [
    {
     "name": "stderr",
     "output_type": "stream",
     "text": [
      "C:\\Users\\vetru\\anaconda3\\lib\\site-packages\\pgmpy\\factors\\discrete\\DiscreteFactor.py:529: UserWarning: Found unknown state name. Trying to switch to using all state names as state numbers\n",
      "  warnings.warn(\n",
      "Eliminating: prevalentHyp: 100%|██████████| 2/2 [00:00<00:00, 222.19it/s]\n",
      "Finding Elimination Order: : 100%|██████████| 2/2 [00:00<00:00, 64.51it/s]\n",
      "Eliminating: prevalentHyp: 100%|██████████| 2/2 [00:00<00:00, 250.05it/s]"
     ]
    },
    {
     "name": "stdout",
     "output_type": "stream",
     "text": [
      "Probabilità per un soggetto potenzialmente sano: \n",
      "+---------------+-------------------+\n",
      "| TenYearCHD    |   phi(TenYearCHD) |\n",
      "+===============+===================+\n",
      "| TenYearCHD(0) |            0.8755 |\n",
      "+---------------+-------------------+\n",
      "| TenYearCHD(1) |            0.1245 |\n",
      "+---------------+-------------------+\n",
      "\n",
      "Probabilità per un soggetto potenzialmente malato:\n",
      "+---------------+-------------------+\n",
      "| TenYearCHD    |   phi(TenYearCHD) |\n",
      "+===============+===================+\n",
      "| TenYearCHD(0) |            0.4485 |\n",
      "+---------------+-------------------+\n",
      "| TenYearCHD(1) |            0.5515 |\n",
      "+---------------+-------------------+\n"
     ]
    },
    {
     "name": "stderr",
     "output_type": "stream",
     "text": [
      "\n"
     ]
    }
   ],
   "source": [
    "#calcoliamo la probabilità per un soggetto presumibilmente sano e uno malato.\n",
    "\n",
    "dati = VariableElimination(bNet)\n",
    "soggetto_sano = dati.query(variables = ['TenYearCHD'], evidence= {  'male' : 0, 'currentSmoker' : 1, 'cigsPerDay' : 30, 'diabetes' : 0, 'age' : 25  })\n",
    "print('Probabilità per un soggetto potenzialmente sano: ')\n",
    "print(soggetto_sano)\n",
    "\n",
    "sommetto_malato = dati.query(variables = ['TenYearCHD'], evidence= {  'male' : 1, 'currentSmoker' : 1, 'cigsPerDay' : 30 ,'diaBP' : 120, 'BPMeds' : 1, 'diabetes' : 1, 'age' : 70, 'prevalentStroke' : 1 })\n",
    "print('\\nProbabilità per un soggetto potenzialmente malato:')\n",
    "print(sommetto_malato)"
   ]
  }
 ],
 "metadata": {
  "interpreter": {
   "hash": "8419c65549b05a8bda21ac8ff779c6c6633d29f5717f49afb375df903e836d95"
  },
  "kernelspec": {
   "display_name": "Python 3.8.5 64-bit",
   "name": "python3"
  },
  "language_info": {
   "codemirror_mode": {
    "name": "ipython",
    "version": 3
   },
   "file_extension": ".py",
   "mimetype": "text/x-python",
   "name": "python",
   "nbconvert_exporter": "python",
   "pygments_lexer": "ipython3",
   "version": "3.8.5"
  },
  "orig_nbformat": 4
 },
 "nbformat": 4,
 "nbformat_minor": 2
}
